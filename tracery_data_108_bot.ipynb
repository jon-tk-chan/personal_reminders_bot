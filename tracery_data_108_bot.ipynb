{
 "cells": [
  {
   "cell_type": "code",
   "execution_count": 22,
   "id": "9457f85b",
   "metadata": {},
   "outputs": [],
   "source": [
    "import pandas as pd\n",
    "from flask import jsonify\n",
    "import json\n",
    "import re"
   ]
  },
  {
   "cell_type": "code",
   "execution_count": 12,
   "id": "0a49bc62",
   "metadata": {},
   "outputs": [
    {
     "data": {
      "text/html": [
       "<div>\n",
       "<style scoped>\n",
       "    .dataframe tbody tr th:only-of-type {\n",
       "        vertical-align: middle;\n",
       "    }\n",
       "\n",
       "    .dataframe tbody tr th {\n",
       "        vertical-align: top;\n",
       "    }\n",
       "\n",
       "    .dataframe thead th {\n",
       "        text-align: right;\n",
       "    }\n",
       "</style>\n",
       "<table border=\"1\" class=\"dataframe\">\n",
       "  <thead>\n",
       "    <tr style=\"text-align: right;\">\n",
       "      <th></th>\n",
       "      <th>Posted</th>\n",
       "      <th>date</th>\n",
       "      <th>id</th>\n",
       "      <th>cat_main</th>\n",
       "      <th>cat_alt</th>\n",
       "      <th>text</th>\n",
       "    </tr>\n",
       "  </thead>\n",
       "  <tbody>\n",
       "    <tr>\n",
       "      <th>0</th>\n",
       "      <td>NaN</td>\n",
       "      <td>NaN</td>\n",
       "      <td>NaN</td>\n",
       "      <td>Internet</td>\n",
       "      <td>Activism</td>\n",
       "      <td>Justice and bitterness do not always move at t...</td>\n",
       "    </tr>\n",
       "    <tr>\n",
       "      <th>1</th>\n",
       "      <td>NaN</td>\n",
       "      <td>NaN</td>\n",
       "      <td>NaN</td>\n",
       "      <td>Internet</td>\n",
       "      <td>Activism</td>\n",
       "      <td>People are allowed to contribute in different ...</td>\n",
       "    </tr>\n",
       "    <tr>\n",
       "      <th>2</th>\n",
       "      <td>NaN</td>\n",
       "      <td>NaN</td>\n",
       "      <td>NaN</td>\n",
       "      <td>Internet</td>\n",
       "      <td>Activism</td>\n",
       "      <td>Piling on someone who’s getting dragged is mor...</td>\n",
       "    </tr>\n",
       "    <tr>\n",
       "      <th>3</th>\n",
       "      <td>NaN</td>\n",
       "      <td>NaN</td>\n",
       "      <td>NaN</td>\n",
       "      <td>Internet</td>\n",
       "      <td>Activism</td>\n",
       "      <td>There are ways to serve others without destroy...</td>\n",
       "    </tr>\n",
       "    <tr>\n",
       "      <th>4</th>\n",
       "      <td>NaN</td>\n",
       "      <td>NaN</td>\n",
       "      <td>NaN</td>\n",
       "      <td>Internet</td>\n",
       "      <td>Activism</td>\n",
       "      <td>Two things can be true at the same time. You d...</td>\n",
       "    </tr>\n",
       "  </tbody>\n",
       "</table>\n",
       "</div>"
      ],
      "text/plain": [
       "   Posted  date  id  cat_main   cat_alt  \\\n",
       "0     NaN   NaN NaN  Internet  Activism   \n",
       "1     NaN   NaN NaN  Internet  Activism   \n",
       "2     NaN   NaN NaN  Internet  Activism   \n",
       "3     NaN   NaN NaN  Internet  Activism   \n",
       "4     NaN   NaN NaN  Internet  Activism   \n",
       "\n",
       "                                                text  \n",
       "0  Justice and bitterness do not always move at t...  \n",
       "1  People are allowed to contribute in different ...  \n",
       "2  Piling on someone who’s getting dragged is mor...  \n",
       "3  There are ways to serve others without destroy...  \n",
       "4  Two things can be true at the same time. You d...  "
      ]
     },
     "execution_count": 12,
     "metadata": {},
     "output_type": "execute_result"
    }
   ],
   "source": [
    "#Import csv of one liners - tweets are in 'text' column\n",
    "#output JSON with 'origin' item as a list of 'text' strings\n",
    "#ignore other items for now\n",
    "\n",
    "in_file = '108 - Sheet1.csv'\n",
    "\n",
    "in_df = pd.read_csv('108 - Sheet1.csv')\n",
    "\n",
    "in_df.head()"
   ]
  },
  {
   "cell_type": "code",
   "execution_count": 24,
   "id": "e4a6b7d0",
   "metadata": {},
   "outputs": [],
   "source": [
    "tweets = in_df['text'].tolist()\n",
    "tweets\n",
    "\n",
    "#replace incorrectly encoded right and left apostophe\n",
    "tweets = [re.sub(u\"(\\u2018|\\u2019)\", \"'\", s) for s in tweets]"
   ]
  },
  {
   "cell_type": "code",
   "execution_count": 25,
   "id": "6ccf1a5e",
   "metadata": {},
   "outputs": [
    {
     "data": {
      "text/plain": [
       "'{\"origin\": [\"Justice and bitterness do not always move at the same rate.\", \"People are allowed to contribute in different ways. People are allowed to critique those with good intentions.\", \"Piling on someone who\\'s getting dragged is more fun than it is productive.\", \"There are ways to serve others without destroying yourself.\", \"Two things can be true at the same time. You don\\'t need to engage with every potential conflict.\", \"How impressive they seem and how happy they are are not as correlated as you think.\", \"If their approval wouldn\\'t make you happy, their ambivalence is something that you can survive.\", \"Just because you are privileged does not mean you need to destroy yourself.\", \"Not every injustice is yours to solve. You\\'re going to be powerless for a lot of it.\", \"Sometimes, the people you need to stop trying to impress are the people you love the most.\", \"They are allowed to criticize, just as you are allowed to disregard what doesn\\'t serve you.\", \"At some point, they need to know how they hurt you. Holding onto this feeling will start to destroy you both.\", \"At some point, you have to look at them like any other person incapable of living up to expectations.\", \"At some point, you\\'re allowed to see them as any other person in life who hasn\\'t lived up to expectations.\", \"Being right is not always as important as being considerate\", \"Just because they sacrificed a lot does not mean that they did a perfect job.\", \"No family is normal at this age. No one\\'s advice will completely fit your situation/\", \"No one\\'s true family situation is that IG friendly.\", \"Notice who they are now. They may be capable of more growth than you think.\", \"Notice who they are now. They may have never been perfect.\", \"One of the best ways you can show love to them is to treat yourself less harshly\", \"The parents you remember might not even exist anymore. The people they are today are far less perfect than you think\", \"They are always worried about you. They were worried about you even when you were doing everything right.\", \"They did their best, but that doesn\\'t always mean that they did a great job.\", \"They were learning as they went. It wasn\\'t fair to you, but it was never meant to be.\", \"They\\'re getting older everyday. They\\'re also stronger than you think.\", \"They\\'d be heartbroken to find out what you went through when trying to not worry them.\", \"You can be deserving of love even if you aren\\'t on the path they envisioned for you. \", \"You can be grateful while acknowledging how they hurt you\", \"You can be on an unexpected path and they are still capable of loving this version of you\", \"You\\'re allowed to start missing them before they are gone.\", \"You\\'re both allowed to take your time. Your parents are stilll recovering from what their parents.\", \"You\\'re not responsible for their feelings, no matter how good you were at soothing them in the past.\", \"Your parents are just people. No one really taught them how to do it either.\", \"Your parents are not just the 2 or 3 traits you assigned them at a young age.\", \"Being yourself sometimes means losing anyone who\\'s friends with your filtered self\", \"It\\'s okay to be boring. No one should be constantly proving a point.\", \"Being an artist is rarely as IG friendly as you are led to believe.\", \"Do the work that helps you stay sane. It will help more people than you know. \", \"Don\\'t believe anyone who wastes time and attention to say \\'no one cares\\'.\", \"Every job sucks at least some of the time, even the ones that you put on a pedestal. \", \"Helping one person is enough, even if it is yourself.\", \"It doesn\\'t need to be perfect. All it needs to do is help one more person.\", \"Just because you make something beautiful doesn\\'t mean you are invulnerable to failure. \", \"Making your most impactful work sometimes comes from a dark place. It\\'s not a reason to keep destroying yourself.\", \"No one gives you permission to get things wrong. No amount of preparation will protect you from looking a little ridiculous\", \"No one needs to call you an artist before you start making art.\", \"People never asked for perfect work. They just want something to help them feel something.\", \"THe people who support you are allowed to disagree with you. You are allowed to make work that only satisfies yourself.\", \"The work that matters will take time, longer than the time you can stay inspired.\", \"WHat a blessing it is to learn that your work won\\'t matter to everyone.\", \"You deserve to get back to yourself. Anything that helps you get there is worth your time.\", \"You don\\'t need to understand it to like it. Feeling something is enough.\", \"You\\'re not supposed to be good at it right away. Good things often take more time than we have.\", \"Your work doesn\\'t need to be the best part of you. It\\'s just another part.\", \"Your work doesn\\'t need to change the world. It can just be about helping you get through another day.\", \"Refusing to make mistakes can be the biggest mistake you make. \", \"You can be incredibly lucky and still use your time on creative work. No one decides who is worthy to be creative.\", \"No one is capable of being creative all the time, not even your favourite artists.\", \"Some people would criticize you even if you gave them everything they asked for. Some are just looking for a recognizable flaw.\", \"No one will go out of their way to give you permission to be yourself.\", \"You figure out a lot about yourself by looking at who you judge first.\", \"A city is just a place. It is the people who will become a home to you.\", \"Even if it never lives up to your expectations, you are allowed to try for yourself.\", \"Every city will provide you reasons to leave if you stay long enough.\", \"Living in your dream city is never as simple as it is in your head.\", \"No city has a care-free life. Each just gives you a different set of problems.\", \"No place is ever as pretty as your idea of it.\", \"The problems that really matter will not disappear when you move.\", \"There are miserable people everywhere, even in the city that you idolize.\", \"You can be sad about leaving and still be doing the best thing for yourself.\", \"You can love a city and still respect the fact that you need to leave.\", \"You don\\'t get a new identity, but you do free yourself from the emotional baggage.\", \"You\\'re allowed to start living your life even before you\\'re in a place you want to stay.\", \"Destroying yourself won\\'t bring the change you want, either.\", \"Do your best with what you have. It doesn\\'t need to be enough for anyone else.\", \"Do your best with what you have. It won\\'t be enough for everyone.\", \"If you are going to fail, don\\'t let it be because you didn\\'t try.\", \"It\\'s okay if you are the only person you can save right now.\", \"It\\'s not your job to save the world. All you can do is play your imperfect role\", \"No one will give you permission to prioritize your\\\\n own wellbeing, but it is still worth the effort.\", \"Nothing happens as fast as you want it to. Just do the next right thing.\", \"The change you won\\'t happen as fast as you want it to. Just do the next right thing.\", \"The end of the world arrives differently for everyone. Be kind to those who\\'s worlds have already ended.\", \"The end of the world won\\'t be fair, especially to the people who don\\'t deserve it.\", \"The world can be ending and there will still be people worth staying here for.\", \"The world can be ending and you can still have something to look forward to.\", \"The world can be ending and you can still have work left to do.\", \"The world can be ending and you can still make a difference.\", \"You are allowed to spend your time on insufficent actions. They will still matter in the long run\", \"The world can be ending and you still have something to look forward to.\", \"You are not a bad person for protecting your own sanity right now. No one else will do it for you.\", \"You are not responsible for saving anyone other than yourself.\", \"You aren\\'t supposed to save the world. All you can do is play your role.\", \"You don\\'t owe them a performance of compassion.\\\\n Doing your part won\\'t always have an audience.\", \"You job isn\\'t to be perfect. Your job is to keep trying even when all hope is lost.\", \"You aren\\'t a bad friend. We\\'re supposed to be missing each other at this point.\", \"Your friends aren\\'t meant to tell you everything you want to hear.\", \"Coming home feels like a loss, but so is staying in a place that isn\\'t meeting your changing needs/\", \"No one leaves a place without at least a little sadness. \", \"This feeling may never go away. At some point, leaving may be a necessary mistake.\", \"We are only entitled to our own problems. They deserve their success as much as they deserve their problems\", \"What they do has very little affect on what you need to do\", \"You\\'ll never know what they gave up to get theirs, just as you don\\'t know what you\\'ll need to give up to get what you want\", \"It\\'s not a bad thing to let others contribute to your happiness.\", \"Losing a bad relationship is not a bad thing.\", \"Love is enjoying imperfect moments frequently with someone who matters.\", \"Loving the idea of them won\\'t work if you didn\\'t love the human in front of you\", \"People can be in pain and still be capable of hurting you\", \"People don\\'t always intend to hurt you the way they do. They just aren\\'t as observant as they wish they were.\", \"Putting them on a pedestal may be a way to keep your distance from them, too.\", \"Relationships aren\\'t possessions. You get to build one if youre lucky.\", \"Relationships won\\'t solve you. But not needing them isn\\'t a badge of honour, either.\", \"Self-sacrifice isn\\'t always an expression of love. \", \"Solving their problems is never your job. You can often make it worse by even trying.\", \"Solving their problems isn\\'t more important than just showing up.\", \"Sometimes, the best way to help someone is to ask them to help you.\", \"Talking about yourself is not the same as being a good communicator.\", \"You can miss being single and still love your partner.\", \"Drinking water won\\'t replace difficult self reflection and therapy. It\\'s allowed to just be another habit to maintain.\", \"Just because they didn\\'t know about your boundaries doesn\\'t mean that you have to continue to put up with their behaviour.\", \"It can cost very little to pursue the very edges of your dreams.\", \"It\\'s worth learning how to take a loss. Your favourite artists have taken more losses than you have had attempts.\", \"Some of my favourite artists still struggle with that title.\", \"Success has far more to do with timing than worthiness.\", \"The things you make don\\'t need to be the best parts of you.\", \"Value is not decided by difficulty. It has done its job if you feel something.\", \"You like what you like. It doesn\\'t matter how much you knew about it yesterday\", \"You may not be perfect, but you certainly don\\'t deserve to feel like this.\", \"A lot of good things aren\\'t supposed to last forever\", \"Mistakes aren\\'t mistakes in the longterm. You win or you learn\", \"No one is done figuring it out, not even the people who just got married or bought a house.\", \"No one will admit how disappointed they are with themselves at this point. We all have work to do.\", \"On a long enough timeline, we all take losses that no one sees.\", \"There will always be more people to try to impress. It will never stop being as draining as it feels.\", \"You\\'ll never know your true potential, but you\\'ll also never know how much worse it could have gotten.\", \"A lot of us are lucky to be here, and we are still allowed to acknowledge our suffering. \", \"Bad people don\\'t feel this way about doing bad things. You are allowed to grow from your mistakes.\", \"Empathy without self preservation is not sustainable.\", \"Focusing on creative work will always be a struggle and a privilege.\", \"Just because you have gotten lucky does not mean that you are undeserving of your humanity.\", \"No amount of privilege will make you incapable of suffering.\", \"No one person decides who \\'deserves\\' to make creative work, not even the people who have sacrificed more for it.\", \"Some people want change. Some people just want a familiar flaw to call out in someone else.\", \"Some people would criticize you even if you did a perfect job.\", \"Some people\\'s biggest mistake is not making enough mistakes when they could.\", \"Things that give you meaning don\\'t always sustain you.\", \"You can be privileged and be allowed to have shortcomings.\", \"You can be privileged and still deserve help.\", \"You can be privileged and still take a break.\", \"You can hold yourself accountable while also treating yourself like a human\", \"Your dreams are allowed to change as often as you do. You are a person, not a brand.\", \"Your job can just be a job. Your free time doesn\\'t need to be productive.\", \"Doing nothing is a learnable and underrated skill.\", \"Healing doesn\\'t need to take up your entire identity. You\\'re allowed to live your life before you are ready.\", \"It\\'s rarely as urgant as you think. The people who matter will understand when you need to slow down.\", \"Just because you have been resliant doesn\\'t mean that you need to put up with this.\", \"No one has to live with yourself before you do.\", \"No one stops you from being an artist. You call yourself what you need to.\", \"Sometimes, people need a break from things they love as well.\", \"You don\\'t stop being an artist when you take a break. \", \"You\\'re allowed to prioritize living your life over being as creative as you once were.\", \"You\\'re not weak. You\\'re going through the hardest part of yourlife\", \"It\\'s not their job to give you approval, no matter how close it feels\", \"On some level, we all need to be hypocritical to live a peaceful life.\", \"People were never meant to live up to the expectations of Twitter. Real life allows for context.\", \"People will often treat you as the idea they have of you. Your life doesn\\'t need to be simplified for them.\", \"Posting about changing is far easier than actually changing.\", \"The hardest part about the task ahead won\\'t be easy to capture in the aspirational social media post.\", \"Trashing enough of the evil people will not save you. You still need to do your part.\", \"Twitter is different things to different people. Don\\'t assume it to be safe for your most vulnerable self.\", \"Visibility is not the same as wealth.\", \"We could all use thicker skin. We could also be slightly more considerate.\", \"You are allowed to be proud of your work regardless of how much engagement it gets.\", \"A city is just a place. It is the people that determine how easy it is to leave.\", \"Bad people don\\'t even consider the things that you often beat yourself up about.\", \"Doing a good job often means making mistakes openly.\", \"Doing nothing is not the same as free time. Productivity doesn\\'t need to factor into free time.\", \"It serves no one to exhaust yourself while serving everyone else.\", \"Never letting yourself get hurt again is not the same as healing.\", \"They do love you. Give them a chance to comfort someone they love.\", \"They would be devastated to know what you\\'re silently going through.\", \"You are allowed to enjoy your life before someone tells you that you\\'ve earned it.\", \"You are not responsible for their feelings, even if no one gets them like you do.\", \"You don\\'t need to be that person that they wanted in the past.\", \"You\\'ll never be the person that they needed in the past. They need someone different for this part of the journey.\", \"You\\'re allowed to learn from your mistakes. Life isn\\'t always like Twitter.\"]}'"
      ]
     },
     "execution_count": 25,
     "metadata": {},
     "output_type": "execute_result"
    }
   ],
   "source": [
    "\n",
    "\n",
    "out_dict = {\n",
    "    'origin': tweets\n",
    "}\n",
    "json_string = json.dumps(out_dict)\n",
    "json_string\n"
   ]
  },
  {
   "cell_type": "code",
   "execution_count": 26,
   "id": "46d0d094",
   "metadata": {},
   "outputs": [],
   "source": [
    "with open('108_tweets_data.json', 'w', encoding='utf-8') as outfile:\n",
    "    outfile.write(json_string)"
   ]
  },
  {
   "cell_type": "code",
   "execution_count": null,
   "id": "7dc83bd4",
   "metadata": {},
   "outputs": [],
   "source": [
    "#add formatting checks - period at end of each sentence, capitalization, spelling?"
   ]
  }
 ],
 "metadata": {
  "kernelspec": {
   "display_name": "Python 3",
   "language": "python",
   "name": "python3"
  },
  "language_info": {
   "codemirror_mode": {
    "name": "ipython",
    "version": 3
   },
   "file_extension": ".py",
   "mimetype": "text/x-python",
   "name": "python",
   "nbconvert_exporter": "python",
   "pygments_lexer": "ipython3",
   "version": "3.8.8"
  }
 },
 "nbformat": 4,
 "nbformat_minor": 5
}
